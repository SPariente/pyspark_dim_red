{
 "cells": [
  {
   "cell_type": "code",
   "execution_count": 1,
   "id": "6b90ffa3-fc4f-4be3-b5eb-a30a2d776836",
   "metadata": {},
   "outputs": [],
   "source": [
    "import os\n",
    "import io\n",
    "from getpass import getpass\n",
    "import numpy as np\n",
    "import pandas as pd\n",
    "\n",
    "from functions import *\n",
    "\n",
    "from pyspark import SparkContext\n",
    "from pyspark.sql import SparkSession\n",
    "from pyspark.ml.feature import PCA, PCAModel, StringIndexer\n",
    "import pyspark.sql.functions as F\n",
    "from pyspark.ml.linalg import DenseVector, VectorUDT\n",
    "from pyspark.ml import Pipeline\n",
    "from pyspark.ml.classification import LogisticRegression\n",
    "from pyspark.ml.tuning import CrossValidator, ParamGridBuilder\n",
    "from pyspark.ml.evaluation import MulticlassClassificationEvaluator\n",
    "\n",
    "import boto3"
   ]
  },
  {
   "cell_type": "code",
   "execution_count": 2,
   "id": "27bfe80b-9b79-432c-a27f-e6b448f0f1c5",
   "metadata": {},
   "outputs": [
    {
     "name": "stdin",
     "output_type": "stream",
     "text": [
      "Clé d'accès pour S3 ····················\n",
      "Clé secrète pour S3 ········································\n"
     ]
    }
   ],
   "source": [
    "# Clés AMI pour accès S3\n",
    "access_key = getpass(prompt=\"Clé d'accès pour S3\") # Clé accès\n",
    "secret_key = getpass(prompt='Clé secrète pour S3') # Clé secrète"
   ]
  },
  {
   "cell_type": "code",
   "execution_count": 3,
   "id": "c7438ce6-0e77-4400-ae96-bdd6aaf85a46",
   "metadata": {},
   "outputs": [],
   "source": [
    "# Définition des variables d'environnement système pour accès S3\n",
    "os.environ['AWS_ACCESS_KEY_ID'] = access_key\n",
    "os.environ['AWS_SECRET_ACCESS_KEY'] = secret_key"
   ]
  },
  {
   "cell_type": "code",
   "execution_count": 4,
   "id": "b1f643d6-4476-4a86-ade4-a2c0f851eb71",
   "metadata": {},
   "outputs": [
    {
     "name": "stdout",
     "output_type": "stream",
     "text": [
      "oc-bucket-img\n"
     ]
    }
   ],
   "source": [
    "# Accès S3 par boto3 et test\n",
    "s3 = boto3.resource(\n",
    "    service_name='s3',\n",
    "    region_name='eu-west-1',\n",
    "    aws_access_key_id=access_key,\n",
    "    aws_secret_access_key=secret_key\n",
    ")\n",
    "\n",
    "for bucket in s3.buckets.all():\n",
    "    print(bucket.name)"
   ]
  },
  {
   "cell_type": "code",
   "execution_count": 5,
   "id": "1ad72577-5a33-49b5-a271-587d269f8487",
   "metadata": {},
   "outputs": [],
   "source": [
    "spark = (SparkSession\n",
    "         .builder # Création d'une SparkSession\n",
    "         .master('local[4]') # Allocation de tous les threads locaux disponibles\n",
    "         .config('spark.executor.memory', '1500m') # Allocation de mémoire aux executors\n",
    "         .appName('OC-P8') # Nom donné\n",
    "         .getOrCreate())"
   ]
  },
  {
   "cell_type": "code",
   "execution_count": 6,
   "id": "5c221890-595b-40c2-b33d-95a7b8088c9c",
   "metadata": {},
   "outputs": [],
   "source": [
    "# Importation du modèle précédemment créé\n",
    "pca_f = PCAModel.load(\"s3a://oc-bucket-img/model/pca\")"
   ]
  },
  {
   "cell_type": "code",
   "execution_count": 7,
   "id": "dd423682-e840-4731-a6a8-2ac8cf47f8ae",
   "metadata": {},
   "outputs": [],
   "source": [
    "# Création d'une user-defined function pour extraire le nom du dossier = nom du fruit, pour classifier\n",
    "path2name = F.udf(lambda x: cat_extract(x))\n",
    "# Création d'une user-defined function pour le préprocessing des images ligne à ligne\n",
    "img_size = [30, 30]\n",
    "img2vec = F.udf(lambda x: DenseVector(preprocess(x, img_size).flatten()/255), VectorUDT())"
   ]
  },
  {
   "cell_type": "code",
   "execution_count": 8,
   "id": "8ed9a926-2e83-4e67-b349-6a3b7c058e77",
   "metadata": {},
   "outputs": [],
   "source": [
    "def preprocess_step(path):\n",
    "    \n",
    "    \"\"\"\n",
    "    Fonction gérant le préprocessing des images contenues au chemin indiqué :\n",
    "    - Extraction des noms de fruits\n",
    "    - Egalisation de l'histogramme des images et scaling\n",
    "    - PCA sur images\n",
    "    \"\"\"\n",
    "    \n",
    "    df = spark.read.format(\"binaryfile\").load(path) # Lecture des documents (images) contenues dans le dossier\n",
    "    df_prep = df.withColumn(\"name\", path2name(\"path\")).select('name', 'content')\n",
    "    df_prep = df_prep.withColumn(\"content\", img2vec(\"content\"))\n",
    "    pca_df = pca_f.transform(df_prep)\n",
    "    return pca_df"
   ]
  },
  {
   "cell_type": "code",
   "execution_count": 9,
   "id": "62d8e000-891e-445c-86b7-b1524d9bf664",
   "metadata": {},
   "outputs": [],
   "source": [
    "data_url = \"s3a://oc-bucket-img/Training-aws/*\" # URL du dossier dans S3"
   ]
  },
  {
   "cell_type": "code",
   "execution_count": 10,
   "id": "d17a7a85-f521-4626-b2a5-d52cb2361914",
   "metadata": {},
   "outputs": [],
   "source": [
    "# Preprocessing des données d'entraînement\n",
    "train_df = preprocess_step(data_url)"
   ]
  },
  {
   "cell_type": "code",
   "execution_count": 11,
   "id": "fcdbff14-665f-4b21-b459-1291ab5fff14",
   "metadata": {},
   "outputs": [],
   "source": [
    "# Définition des étapes du modèle\n",
    "strind = StringIndexer(inputCol='name', outputCol='name_ind') # Encodage des noms de fruits\n",
    "logreg = LogisticRegression(featuresCol='pca_feat', labelCol='name_ind', maxIter=10) # Régression logistique sur variables après PCA"
   ]
  },
  {
   "cell_type": "code",
   "execution_count": 12,
   "id": "bbae7993-1b3c-4470-8ae8-e16c2cfd341b",
   "metadata": {},
   "outputs": [],
   "source": [
    "# Définition du pipeline\n",
    "pipeline = Pipeline(stages=[strind, logreg])"
   ]
  },
  {
   "cell_type": "code",
   "execution_count": 13,
   "id": "ec9c32be-ea3e-4b84-9967-149a805edbee",
   "metadata": {},
   "outputs": [],
   "source": [
    "# Hyperparamètres à évaluer\n",
    "params = ParamGridBuilder() \\\n",
    "    .addGrid(logreg.regParam, [0.01, 0.1, 1]) \\\n",
    "    .build()"
   ]
  },
  {
   "cell_type": "code",
   "execution_count": 14,
   "id": "fa0c1978-21e1-4a74-bb5b-c78fd905a84a",
   "metadata": {},
   "outputs": [],
   "source": [
    "# Méthode d'évaluation = accuracy\n",
    "evaluator = MulticlassClassificationEvaluator(predictionCol=\"prediction\", labelCol='name_ind', metricName='accuracy')"
   ]
  },
  {
   "cell_type": "code",
   "execution_count": 15,
   "id": "30473ad0-578b-44e2-a699-dec6d5346256",
   "metadata": {},
   "outputs": [],
   "source": [
    "# Evaluation croisée en 5 folds\n",
    "crossval = CrossValidator(estimator=pipeline,\n",
    "                          estimatorParamMaps=params,\n",
    "                          evaluator=evaluator,\n",
    "                          numFolds=5)"
   ]
  },
  {
   "cell_type": "code",
   "execution_count": 16,
   "id": "fb6d89b9-eff1-4072-9afe-956b415c9f36",
   "metadata": {},
   "outputs": [],
   "source": [
    "# Grid search\n",
    "model_cv = crossval.fit(train_df)"
   ]
  },
  {
   "cell_type": "code",
   "execution_count": 17,
   "id": "9a48cdde-cd2d-454e-825f-116d9cd9cf39",
   "metadata": {},
   "outputs": [],
   "source": [
    "# Importation et préprocessing du set de test\n",
    "test_url = \"s3a://oc-bucket-img/Test-aws/*\" # URL du dossier dans S3\n",
    "test_pca_df = preprocess_step(test_url)"
   ]
  },
  {
   "cell_type": "code",
   "execution_count": 18,
   "id": "ccdb9541-71f6-4772-aab0-dbe5f5502b2c",
   "metadata": {},
   "outputs": [],
   "source": [
    "# Prédictions sur set de test\n",
    "test_preds = model_cv.transform(test_pca_df)"
   ]
  },
  {
   "cell_type": "code",
   "execution_count": 19,
   "id": "4f8a879a-5b34-405e-966c-6c6895b418aa",
   "metadata": {},
   "outputs": [
    {
     "name": "stdout",
     "output_type": "stream",
     "text": [
      "root\n",
      " |-- name: string (nullable = true)\n",
      " |-- content: vector (nullable = true)\n",
      " |-- pca_feat: vector (nullable = true)\n",
      " |-- name_ind: double (nullable = false)\n",
      " |-- rawPrediction: vector (nullable = true)\n",
      " |-- probability: vector (nullable = true)\n",
      " |-- prediction: double (nullable = false)\n",
      "\n"
     ]
    }
   ],
   "source": [
    "test_preds.printSchema()"
   ]
  },
  {
   "cell_type": "code",
   "execution_count": 20,
   "id": "61c90ac0-7a89-429f-b16f-6d9b4789f3be",
   "metadata": {},
   "outputs": [
    {
     "data": {
      "text/plain": [
       "0.566412213740458"
      ]
     },
     "execution_count": 20,
     "metadata": {},
     "output_type": "execute_result"
    }
   ],
   "source": [
    "# Calcul de l'accuracy sur set de test\n",
    "evaluator.evaluate(test_preds)"
   ]
  },
  {
   "cell_type": "code",
   "execution_count": null,
   "id": "12ab6afe-5f95-49cd-a75e-24ef04143f80",
   "metadata": {},
   "outputs": [],
   "source": []
  }
 ],
 "metadata": {
  "kernelspec": {
   "display_name": "Python 3 (ipykernel)",
   "language": "python",
   "name": "python3"
  },
  "language_info": {
   "codemirror_mode": {
    "name": "ipython",
    "version": 3
   },
   "file_extension": ".py",
   "mimetype": "text/x-python",
   "name": "python",
   "nbconvert_exporter": "python",
   "pygments_lexer": "ipython3",
   "version": "3.9.12"
  }
 },
 "nbformat": 4,
 "nbformat_minor": 5
}
