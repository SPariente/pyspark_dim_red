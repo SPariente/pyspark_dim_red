{
 "cells": [
  {
   "cell_type": "code",
   "execution_count": 1,
   "id": "6b90ffa3-fc4f-4be3-b5eb-a30a2d776836",
   "metadata": {},
   "outputs": [],
   "source": [
    "import os\n",
    "import io\n",
    "from getpass import getpass\n",
    "import numpy as np\n",
    "import pandas as pd\n",
    "import matplotlib.pyplot as plt\n",
    "\n",
    "# Image packages\n",
    "from PIL import Image, ImageOps\n",
    "\n",
    "# PySpark packages\n",
    "from pyspark import SparkContext, SparkConf\n",
    "from pyspark.ml.image import ImageSchema\n",
    "from pyspark.sql import SparkSession\n",
    "from pyspark.ml.feature import PCA, StandardScaler\n",
    "import pyspark.sql.functions as F\n",
    "from pyspark.sql.functions import col, pandas_udf, PandasUDFType, split, udf\n",
    "from pyspark.ml.linalg import DenseVector, VectorUDT, Vectors\n",
    "\n",
    "# Tensorflow\n",
    "import tensorflow as tf\n",
    "from tensorflow.keras.applications.resnet50 import ResNet50, preprocess_input\n",
    "from tensorflow.keras.preprocessing.image import img_to_array, load_img"
   ]
  },
  {
   "cell_type": "code",
   "execution_count": 2,
   "id": "bb7b328c-e148-4cad-bbfd-6a905bb2df3c",
   "metadata": {},
   "outputs": [
    {
     "name": "stdin",
     "output_type": "stream",
     "text": [
      "Clé d'accès pour S3 ····················\n",
      "Clé secrète pour S3 ········································\n"
     ]
    }
   ],
   "source": [
    "# Clés AMI pour accès S3\n",
    "access_key = getpass(prompt=\"Clé d'accès pour S3\") # Clé accès\n",
    "secret_key = getpass(prompt='Clé secrète pour S3') # Clé secrète"
   ]
  },
  {
   "cell_type": "code",
   "execution_count": 3,
   "id": "797fbe5d-594b-40f8-96c1-b13ff8ef0d9d",
   "metadata": {},
   "outputs": [],
   "source": [
    "# Définition des variables d'environnement système pour accès S3\n",
    "os.environ['AWS_ACCESS_KEY_ID'] = access_key\n",
    "os.environ['AWS_SECRET_ACCESS_KEY'] = secret_key"
   ]
  },
  {
   "cell_type": "code",
   "execution_count": 4,
   "id": "ad816688-c452-46b6-8245-53c0040941af",
   "metadata": {},
   "outputs": [],
   "source": [
    "spark = (SparkSession\n",
    "         .builder # Création d'une SparkSession\n",
    "         .master('local[1]') # Allocation de cores\n",
    "         .config('spark.executor.memory', '2g') # Allocation de mémoire aux executors\n",
    "         .appName('OC-P8') # Nom donné\n",
    "         .getOrCreate())"
   ]
  },
  {
   "cell_type": "code",
   "execution_count": 5,
   "id": "f2d1f963-bf20-4086-9d53-d1d719a75a84",
   "metadata": {},
   "outputs": [],
   "source": [
    "# data_url = \"s3a://oc-bucket-img/Training-aws/*\" # URL du dossier dans S3\n",
    "data_url = \"data/Train-aws/*\""
   ]
  },
  {
   "cell_type": "code",
   "execution_count": 6,
   "id": "8b24a4b0-154b-4a02-bc28-bf6243719bc9",
   "metadata": {},
   "outputs": [],
   "source": [
    "df = spark.read.format(\"binaryfile\").load(data_url) # Lecture des documents (images) contenues dans le dossier"
   ]
  },
  {
   "cell_type": "code",
   "execution_count": 7,
   "id": "bfb89c21-d3b5-44b4-ba60-48d9d30736ba",
   "metadata": {},
   "outputs": [
    {
     "name": "stdout",
     "output_type": "stream",
     "text": [
      "root\n",
      " |-- path: string (nullable = true)\n",
      " |-- modificationTime: timestamp (nullable = true)\n",
      " |-- length: long (nullable = true)\n",
      " |-- content: binary (nullable = true)\n",
      "\n"
     ]
    }
   ],
   "source": [
    "df.printSchema()"
   ]
  },
  {
   "cell_type": "code",
   "execution_count": 8,
   "id": "7aa1f220-96f3-4c70-8ec0-2424db420b39",
   "metadata": {},
   "outputs": [
    {
     "name": "stdout",
     "output_type": "stream",
     "text": [
      "+--------------------+--------------------+\n",
      "|                path|             content|\n",
      "+--------------------+--------------------+\n",
      "|file:/C:/Users/sa...|[FF D8 FF E0 00 1...|\n",
      "|file:/C:/Users/sa...|[FF D8 FF E0 00 1...|\n",
      "|file:/C:/Users/sa...|[FF D8 FF E0 00 1...|\n",
      "|file:/C:/Users/sa...|[FF D8 FF E0 00 1...|\n",
      "|file:/C:/Users/sa...|[FF D8 FF E0 00 1...|\n",
      "+--------------------+--------------------+\n",
      "only showing top 5 rows\n",
      "\n"
     ]
    }
   ],
   "source": [
    "df.select(\"path\", \"content\").show(5)"
   ]
  },
  {
   "cell_type": "code",
   "execution_count": 9,
   "id": "e8cf94d9-f399-4680-9b13-d08e9f5fb3ae",
   "metadata": {},
   "outputs": [],
   "source": [
    "# Préprocessing des chemins d'accès => nom du fruit\n",
    "def cat_extract(path):\n",
    "    \"\"\"\n",
    "    Fonction donnant le nom du dossier indiqué par le chemin path.\n",
    "    \"\"\"\n",
    "    path = os.path.dirname(path)\n",
    "    return os.path.basename(path)"
   ]
  },
  {
   "cell_type": "code",
   "execution_count": 10,
   "id": "ae30c297-3969-4fdb-bc5d-a1bd1fe110ae",
   "metadata": {},
   "outputs": [],
   "source": [
    "# Création d'une user-defined function pour extraire le nom du dossier = nom du fruit, pour classifier\n",
    "path2name = F.udf(lambda x: cat_extract(x))"
   ]
  },
  {
   "cell_type": "code",
   "execution_count": 11,
   "id": "4ffe0a76-ea9e-41a9-90b6-c844388b13ba",
   "metadata": {},
   "outputs": [
    {
     "name": "stdout",
     "output_type": "stream",
     "text": [
      "root\n",
      " |-- name: string (nullable = true)\n",
      " |-- content: binary (nullable = true)\n",
      "\n"
     ]
    }
   ],
   "source": [
    "# Application à nos données par spark\n",
    "df_prep = df.withColumn(\"name\", path2name(\"path\")).select('name', 'content')\n",
    "df_prep.printSchema()"
   ]
  },
  {
   "cell_type": "code",
   "execution_count": 12,
   "id": "c1651603-0685-4123-aa75-bab60b0d45c3",
   "metadata": {},
   "outputs": [],
   "source": [
    "# Fonctionnement sous CPU (environnement Spark sous CPU)\n",
    "from distutils.version import LooseVersion\n",
    "from tensorflow import keras\n",
    "\n",
    "if LooseVersion(tf.__version__) >= LooseVersion('2.0.0'):\n",
    "    # See https://github.com/tensorflow/tensorflow/issues/33168\n",
    "    os.environ['CUDA_VISIBLE_DEVICES'] = '-1'\n",
    "else:\n",
    "    keras.backend.set_session(tf.Session(config=tf.ConfigProto(device_count={'GPU': 0})))"
   ]
  },
  {
   "cell_type": "code",
   "execution_count": 13,
   "id": "9cd9e9bf-08ea-4189-9ef9-f9fc29488db1",
   "metadata": {},
   "outputs": [],
   "source": [
    "# Importation d'un modèle ResNet50 pour extraction de features\n",
    "model = ResNet50(include_top=False)\n",
    "\n",
    "# Broadcast des pondérations du modèle sur tous les workers\n",
    "shared_weights = spark.sparkContext.broadcast(model.get_weights()) "
   ]
  },
  {
   "cell_type": "code",
   "execution_count": 14,
   "id": "19f63bc4-567a-4414-9f74-e8ee401564b2",
   "metadata": {},
   "outputs": [],
   "source": [
    "def model_fn():\n",
    "    \"\"\"\n",
    "    Importation d'un modèle ResNet50, et allocation des pondérations.\n",
    "    \"\"\"\n",
    "    model = ResNet50(weights=None, include_top=False, pooling='avg') \n",
    "    model.set_weights(shared_weights.value)\n",
    "    return model"
   ]
  },
  {
   "cell_type": "code",
   "execution_count": 15,
   "id": "f2e4093b-8248-4ef0-b415-114822306353",
   "metadata": {},
   "outputs": [],
   "source": [
    "# Préprocessing des images\n",
    "def preprocess(content):\n",
    "    \"\"\"\n",
    "    Préprocessing des images pour ResNet50.\n",
    "    \"\"\"\n",
    "    img = Image.open(io.BytesIO(content))\n",
    "    img = img.resize([224, 224])\n",
    "    img = ImageOps.autocontrast(img)\n",
    "    img = ImageOps.equalize(img)\n",
    "    arr = img_to_array(img)\n",
    "    return preprocess_input(arr)"
   ]
  },
  {
   "cell_type": "code",
   "execution_count": 16,
   "id": "e5d71181-98a3-41ba-9da5-e2c0861484e3",
   "metadata": {},
   "outputs": [],
   "source": [
    "def featurize_series(model, content_series):\n",
    "    \"\"\"\n",
    "    Featurize a pd.Series of raw images using the input model.\n",
    "    :return: a pd.Series of image features\n",
    "    \"\"\"    \n",
    "    input = np.stack(content_series.map(preprocess)) \n",
    "    preds = model.predict(input)\n",
    "    output = [p.flatten() for p in preds]\n",
    "    return pd.Series(output)"
   ]
  },
  {
   "cell_type": "code",
   "execution_count": 17,
   "id": "2295c555-2660-42d4-883d-6a9ee9d7eb45",
   "metadata": {},
   "outputs": [
    {
     "name": "stderr",
     "output_type": "stream",
     "text": [
      "C:\\Users\\samue\\DS\\py_env\\main\\lib\\site-packages\\pyspark\\sql\\pandas\\functions.py:394: UserWarning: In Python 3.6+ and Spark 3.0+, it is preferred to specify type hints for pandas UDF instead of specifying pandas UDF type which will be deprecated in the future releases. See SPARK-28264 for more details.\n",
      "  warnings.warn(\n"
     ]
    }
   ],
   "source": [
    "@pandas_udf('array<float>', PandasUDFType.SCALAR_ITER)\n",
    "def featurize_udf(content_series_iter):\n",
    "    \"\"\"\n",
    "    This method is a Scalar Iterator pandas UDF wrapping our featurization function.\n",
    "    The decorator specifies that this returns a Spark DataFrame column of type ArrayType(FloatType).\n",
    "  \n",
    "    :param content_series_iter: This argument is an iterator over batches of data, where each batch\n",
    "                                is a pandas Series of image data.\n",
    "    \"\"\"\n",
    "    model = model_fn()\n",
    "    for content_series in content_series_iter:\n",
    "        yield featurize_series(model, content_series)"
   ]
  },
  {
   "cell_type": "code",
   "execution_count": 18,
   "id": "a1a16da5-7937-42f5-bbf3-e648f156013b",
   "metadata": {},
   "outputs": [],
   "source": [
    "df_prep = df_prep.withColumn(\"features\", featurize_udf(\"content\")).select(\"name\", \"features\")"
   ]
  },
  {
   "cell_type": "code",
   "execution_count": 19,
   "id": "2fc1cad0-ec62-437d-9004-f3ed05d7626f",
   "metadata": {},
   "outputs": [],
   "source": [
    "list_to_vector_udf = udf(lambda l: Vectors.dense(l), VectorUDT())\n",
    "df_prep = df_prep.withColumn(\"features\", list_to_vector_udf(\"features\"))"
   ]
  },
  {
   "cell_type": "code",
   "execution_count": 20,
   "id": "5d202dab-da05-47ef-8cde-03b047a083e6",
   "metadata": {},
   "outputs": [
    {
     "name": "stdout",
     "output_type": "stream",
     "text": [
      "root\n",
      " |-- name: string (nullable = true)\n",
      " |-- features: vector (nullable = true)\n",
      "\n"
     ]
    }
   ],
   "source": [
    "df_prep.printSchema()"
   ]
  },
  {
   "cell_type": "code",
   "execution_count": 21,
   "id": "39ed78c4-7417-45aa-94d6-17e13b121865",
   "metadata": {},
   "outputs": [],
   "source": [
    "scaler = StandardScaler(\n",
    "    withMean=True,\n",
    "    inputCol=\"features\",\n",
    "    outputCol=\"features_scaled\"\n",
    ")"
   ]
  },
  {
   "cell_type": "code",
   "execution_count": 22,
   "id": "0650b50d-ca6a-4e92-aba5-3725aa92e091",
   "metadata": {},
   "outputs": [],
   "source": [
    "scaler_f = scaler.fit(df_prep)"
   ]
  },
  {
   "cell_type": "code",
   "execution_count": 23,
   "id": "b28f0fa3-fc1d-4e68-b92d-be86ed5d65c8",
   "metadata": {},
   "outputs": [],
   "source": [
    "df_prep = scaler_f.transform(df_prep)"
   ]
  },
  {
   "cell_type": "code",
   "execution_count": 24,
   "id": "839b1bda-7a55-45c2-bb4e-16e97eef31b1",
   "metadata": {},
   "outputs": [
    {
     "name": "stdout",
     "output_type": "stream",
     "text": [
      "La base de données du contenu des images contient 655 lignes (images) et 512 colonnes (dimensions).\n"
     ]
    }
   ],
   "source": [
    "nrow = df_prep.count()\n",
    "ncol = 512\n",
    "\n",
    "print(f\"La base de données du contenu des images contient {nrow} lignes (images) et {ncol} colonnes (dimensions).\")"
   ]
  },
  {
   "cell_type": "code",
   "execution_count": 25,
   "id": "f747f1c2-5070-4afe-bdf8-15413ec91f6b",
   "metadata": {},
   "outputs": [],
   "source": [
    "# Etape de réduction dimensionnelle par PCA\n",
    "k = 50 # Ne retenir que 50 dimensions\n",
    "pca = PCA(k=k, inputCol=\"features_scaled\", outputCol=\"pca_feat\")"
   ]
  },
  {
   "cell_type": "code",
   "execution_count": 27,
   "id": "bbe88084-2310-4406-bc7c-81d5f8580dfe",
   "metadata": {},
   "outputs": [],
   "source": [
    "pca_f = pca.fit(df_prep)"
   ]
  },
  {
   "cell_type": "code",
   "execution_count": 28,
   "id": "7ab1821d-8955-4331-877e-5879923ee6bc",
   "metadata": {},
   "outputs": [],
   "source": [
    "# Application de la réduction dimensionnelle à notre base\n",
    "pca_df = pca_f.transform(df_prep)"
   ]
  },
  {
   "cell_type": "code",
   "execution_count": 29,
   "id": "0df3234a-5857-412b-b791-46effbdd05be",
   "metadata": {},
   "outputs": [
    {
     "name": "stdout",
     "output_type": "stream",
     "text": [
      "root\n",
      " |-- name: string (nullable = true)\n",
      " |-- features: vector (nullable = true)\n",
      " |-- features_scaled: vector (nullable = true)\n",
      " |-- pca_feat: vector (nullable = true)\n",
      "\n"
     ]
    }
   ],
   "source": [
    "pca_df.printSchema()"
   ]
  },
  {
   "cell_type": "code",
   "execution_count": 30,
   "id": "7b9b462f-5607-438f-ae9a-af38d8ebcbd0",
   "metadata": {},
   "outputs": [
    {
     "data": {
      "image/png": "[encoded data removed]",
      "text/plain": [
       "<Figure size 432x288 with 1 Axes>"
      ]
     },
     "metadata": {
      "needs_background": "light"
     },
     "output_type": "display_data"
    }
   ],
   "source": [
    "# Contribution des valeurs propres\n",
    "exp_var_pca = pca_f.explainedVariance.toArray()\n",
    "\n",
    "# Somme cumulée des valeurs propres\n",
    "cum_sum_eigenvalues = np.cumsum(exp_var_pca)\n",
    "\n",
    "# Visualisation\n",
    "plt.bar(range(0,len(exp_var_pca)), exp_var_pca, alpha=0.5, color='grey', align='center', label='Contribution à la variance')\n",
    "plt.plot(cum_sum_eigenvalues, c='red', label='Variance expliquée cumulée')\n",
    "plt.ylabel(\"Part de variance\")\n",
    "plt.xlabel(\"PC\")\n",
    "plt.legend(loc='center right')\n",
    "plt.title(\"Visualisation de la variance expliquée par PC\")\n",
    "plt.tight_layout()\n",
    "plt.show()"
   ]
  },
  {
   "cell_type": "code",
   "execution_count": 31,
   "id": "db0f373b-26bd-4854-a00b-64122158e909",
   "metadata": {},
   "outputs": [
    {
     "name": "stdout",
     "output_type": "stream",
     "text": [
      "Les PC retenues permettent d'expliquer 62% de la variance totale de l'échantillon.\n"
     ]
    }
   ],
   "source": [
    "print(f\"Les PC retenues permettent d'expliquer {cum_sum_eigenvalues[-1]:.0%} de la variance totale de l'échantillon.\")"
   ]
  }
 ],
 "metadata": {
  "kernelspec": {
   "display_name": "Python 3 (ipykernel)",
   "language": "python",
   "name": "python3"
  },
  "language_info": {
   "codemirror_mode": {
    "name": "ipython",
    "version": 3
   },
   "file_extension": ".py",
   "mimetype": "text/x-python",
   "name": "python",
   "nbconvert_exporter": "python",
   "pygments_lexer": "ipython3",
   "version": "3.9.12"
  }
 },
 "nbformat": 4,
 "nbformat_minor": 5
}
