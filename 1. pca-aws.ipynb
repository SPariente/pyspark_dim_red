{
 "cells": [
  {
   "cell_type": "code",
   "execution_count": 1,
   "id": "6b90ffa3-fc4f-4be3-b5eb-a30a2d776836",
   "metadata": {},
   "outputs": [],
   "source": [
    "import os\n",
    "import io\n",
    "from getpass import getpass\n",
    "import numpy as np\n",
    "import pandas as pd\n",
    "import matplotlib.pyplot as plt\n",
    "\n",
    "from PIL import Image, ImageOps\n",
    "\n",
    "from pyspark import SparkContext\n",
    "from pyspark.sql import SparkSession\n",
    "from pyspark.ml.feature import PCA\n",
    "import pyspark.sql.functions as F\n",
    "from pyspark.ml.linalg import DenseVector, VectorUDT\n",
    "\n",
    "import boto3"
   ]
  },
  {
   "cell_type": "code",
   "execution_count": 2,
   "id": "e28096e8-3db4-4688-9ecf-8d2dfa234248",
   "metadata": {},
   "outputs": [
    {
     "name": "stdin",
     "output_type": "stream",
     "text": [
      "Clé secrète pour S3 ········································\n"
     ]
    }
   ],
   "source": [
    "# Clés AMI pour accès S3\n",
    "access_key = getpass(prompt=\"Clé d'accès pour S3\") # Clé accès\n",
    "secret_key = getpass(prompt='Clé secrète pour S3') # Clé secrète"
   ]
  },
  {
   "cell_type": "code",
   "execution_count": 3,
   "id": "797fbe5d-594b-40f8-96c1-b13ff8ef0d9d",
   "metadata": {},
   "outputs": [],
   "source": [
    "# Définition des variables d'environnement système pour accès S3\n",
    "os.environ['AWS_ACCESS_KEY_ID'] = access_key\n",
    "os.environ['AWS_SECRET_ACCESS_KEY'] = secret_key"
   ]
  },
  {
   "cell_type": "code",
   "execution_count": 4,
   "id": "26c9b4ea-24f3-44e7-bbd5-e3f87fdd1ffa",
   "metadata": {},
   "outputs": [
    {
     "name": "stdout",
     "output_type": "stream",
     "text": [
      "oc-bucket-img\n"
     ]
    }
   ],
   "source": [
    "# Accès S3 par boto3 et test\n",
    "s3 = boto3.resource(\n",
    "    service_name='s3',\n",
    "    region_name='eu-west-1',\n",
    "    aws_access_key_id=access_key,\n",
    "    aws_secret_access_key=secret_key\n",
    ")\n",
    "\n",
    "for bucket in s3.buckets.all():\n",
    "    print(bucket.name)"
   ]
  },
  {
   "cell_type": "code",
   "execution_count": 5,
   "id": "b1916483-1ca6-43f9-b000-d2f5d34addf1",
   "metadata": {},
   "outputs": [],
   "source": [
    "spark = (SparkSession\n",
    "         .builder # Création d'une SparkSession\n",
    "         .master('local[4]') # Allocation de tous les threads locaux disponibles\n",
    "         .config('spark.executor.memory', '1500m') # Allocation de mémoire aux executors\n",
    "         .appName('OC-P8') # Nom donné\n",
    "         .getOrCreate())"
   ]
  },
  {
   "cell_type": "code",
   "execution_count": 6,
   "id": "f2d1f963-bf20-4086-9d53-d1d719a75a84",
   "metadata": {},
   "outputs": [],
   "source": [
    "data_url = \"s3a://oc-bucket-img/Training-aws/*\" # URL du dossier dans S3"
   ]
  },
  {
   "cell_type": "code",
   "execution_count": 7,
   "id": "2a158a50-0c38-4213-af73-d23f15f60df9",
   "metadata": {},
   "outputs": [],
   "source": [
    "df = spark.read.format(\"binaryfile\").load(data_url) # Lecture des documents (images) contenues dans le dossier"
   ]
  },
  {
   "cell_type": "code",
   "execution_count": 8,
   "id": "38fab693-863f-4001-b169-2099fb4d7a2b",
   "metadata": {},
   "outputs": [
    {
     "name": "stdout",
     "output_type": "stream",
     "text": [
      "root\n",
      " |-- path: string (nullable = true)\n",
      " |-- modificationTime: timestamp (nullable = true)\n",
      " |-- length: long (nullable = true)\n",
      " |-- content: binary (nullable = true)\n",
      "\n"
     ]
    }
   ],
   "source": [
    "df.printSchema()"
   ]
  },
  {
   "cell_type": "code",
   "execution_count": 9,
   "id": "ae8c8eff-f83f-4d35-bf02-9a94884cc0d1",
   "metadata": {},
   "outputs": [
    {
     "name": "stdout",
     "output_type": "stream",
     "text": [
      "+--------------------+--------------------+\n",
      "|                path|             content|\n",
      "+--------------------+--------------------+\n",
      "|s3a://oc-bucket-i...|[FF D8 FF E0 00 1...|\n",
      "|s3a://oc-bucket-i...|[FF D8 FF E0 00 1...|\n",
      "|s3a://oc-bucket-i...|[FF D8 FF E0 00 1...|\n",
      "|s3a://oc-bucket-i...|[FF D8 FF E0 00 1...|\n",
      "|s3a://oc-bucket-i...|[FF D8 FF E0 00 1...|\n",
      "+--------------------+--------------------+\n",
      "only showing top 5 rows\n",
      "\n"
     ]
    }
   ],
   "source": [
    "df.select(\"path\", \"content\").show(5)"
   ]
  },
  {
   "cell_type": "code",
   "execution_count": 10,
   "id": "8675a4ef-f240-4ed8-9e94-cfca1f076e7c",
   "metadata": {},
   "outputs": [],
   "source": [
    "# Préprocessing des chemins d'accès => nom du fruit\n",
    "def cat_extract(path):\n",
    "    \"\"\"\n",
    "    Fonction donnant le nom du dossier indiqué par le chemin path.\n",
    "    \"\"\"\n",
    "    path = os.path.dirname(path)\n",
    "    return os.path.basename(path)"
   ]
  },
  {
   "cell_type": "code",
   "execution_count": 11,
   "id": "b93b7268-123b-4ae7-813c-5056571a17cb",
   "metadata": {},
   "outputs": [],
   "source": [
    "# Création d'une user-defined function pour extraire le nom du dossier = nom du fruit, pour classifier\n",
    "path2name = F.udf(lambda x: cat_extract(x))"
   ]
  },
  {
   "cell_type": "code",
   "execution_count": 12,
   "id": "4ebf512c-1f46-4a1d-9bef-837b8612a36f",
   "metadata": {},
   "outputs": [
    {
     "name": "stdout",
     "output_type": "stream",
     "text": [
      "root\n",
      " |-- name: string (nullable = true)\n",
      " |-- content: binary (nullable = true)\n",
      "\n"
     ]
    }
   ],
   "source": [
    "# Application à nos données par spark\n",
    "df_prep = df.withColumn(\"name\", path2name(\"path\")).select('name', 'content')\n",
    "df_prep.printSchema()"
   ]
  },
  {
   "cell_type": "code",
   "execution_count": 33,
   "id": "80c740bc-9073-4d91-8abd-ecee4a7a8e5b",
   "metadata": {},
   "outputs": [],
   "source": [
    "# Préprocessing des images\n",
    "def preprocess(content, imgsize=[100, 100]):\n",
    "    \"\"\"\n",
    "    Préprocessing des images : changement de taille, et correction de l'histogramme.\n",
    "    Par défaut, taille d'image en 100px x 100px.\n",
    "    \"\"\"\n",
    "    img = Image.open(io.BytesIO(content))\n",
    "    if imgsize != None:\n",
    "        img = img.resize(imgsize)\n",
    "    img = ImageOps.autocontrast(img)\n",
    "    img = ImageOps.equalize(img)\n",
    "    arr = np.asarray(img)\n",
    "    return arr"
   ]
  },
  {
   "cell_type": "code",
   "execution_count": 14,
   "id": "85a278a8-ab81-41f5-b6ce-8a82f27b7d67",
   "metadata": {},
   "outputs": [],
   "source": [
    "# Création d'une user-defined function pour le préprocessing des images ligne à ligne\n",
    "img_size = [30, 30]\n",
    "img2vec = F.udf(lambda x: DenseVector(preprocess(x, img_size).flatten()/255), VectorUDT())"
   ]
  },
  {
   "cell_type": "code",
   "execution_count": 15,
   "id": "52491da1-1d37-4c4a-b6fa-99205bbf9ca5",
   "metadata": {},
   "outputs": [
    {
     "name": "stdout",
     "output_type": "stream",
     "text": [
      "+--------------+--------------------+\n",
      "|          name|             content|\n",
      "+--------------+--------------------+\n",
      "|     Raspberry|[1.0,1.0,1.0,1.0,...|\n",
      "|     Raspberry|[1.0,1.0,1.0,1.0,...|\n",
      "|Pineapple Mini|[1.0,1.0,1.0,1.0,...|\n",
      "|Pineapple Mini|[1.0,1.0,1.0,1.0,...|\n",
      "|     Raspberry|[1.0,1.0,1.0,0.99...|\n",
      "+--------------+--------------------+\n",
      "only showing top 5 rows\n",
      "\n"
     ]
    }
   ],
   "source": [
    "# Application à nos données par spark\n",
    "df_prep = df_prep.withColumn(\"content\", img2vec(\"content\"))\n",
    "df_prep.show(5)"
   ]
  },
  {
   "cell_type": "code",
   "execution_count": 16,
   "id": "839b1bda-7a55-45c2-bb4e-16e97eef31b1",
   "metadata": {},
   "outputs": [
    {
     "name": "stdout",
     "output_type": "stream",
     "text": [
      "La base de données du contenu des images contient 655 lignes (images) et 2700 colonnes (dimensions).\n"
     ]
    }
   ],
   "source": [
    "nrow = df_prep.count()\n",
    "ncol = 3*np.prod(img_size)\n",
    "\n",
    "print(f\"La base de données du contenu des images contient {nrow} lignes (images) et {ncol} colonnes (dimensions).\")"
   ]
  },
  {
   "cell_type": "code",
   "execution_count": 17,
   "id": "f747f1c2-5070-4afe-bdf8-15413ec91f6b",
   "metadata": {},
   "outputs": [],
   "source": [
    "# Etape de réduction dimensionnelle par PCA\n",
    "k = int(ncol/50) # Ne retenir qu'1/50 dimensions\n",
    "pca = PCA(k=k, inputCol=\"content\", outputCol=\"pca_feat\")\n",
    "pca_f = pca.fit(df_prep)"
   ]
  },
  {
   "cell_type": "code",
   "execution_count": 18,
   "id": "7ab1821d-8955-4331-877e-5879923ee6bc",
   "metadata": {},
   "outputs": [],
   "source": [
    "# Application de la réduction dimensionnelle à notre base\n",
    "pca_df = pca_f.transform(df_prep)"
   ]
  },
  {
   "cell_type": "code",
   "execution_count": 19,
   "id": "0df3234a-5857-412b-b791-46effbdd05be",
   "metadata": {},
   "outputs": [
    {
     "name": "stdout",
     "output_type": "stream",
     "text": [
      "root\n",
      " |-- name: string (nullable = true)\n",
      " |-- content: vector (nullable = true)\n",
      " |-- pca_feat: vector (nullable = true)\n",
      "\n"
     ]
    }
   ],
   "source": [
    "pca_df.printSchema()"
   ]
  },
  {
   "cell_type": "code",
   "execution_count": 20,
   "id": "7b9b462f-5607-438f-ae9a-af38d8ebcbd0",
   "metadata": {},
   "outputs": [
    {
     "data": {
      "image/png": "[encoded data removed]",
      "text/plain": [
       "<Figure size 432x288 with 1 Axes>"
      ]
     },
     "metadata": {
      "needs_background": "light"
     },
     "output_type": "display_data"
    }
   ],
   "source": [
    "# Contribution des valeurs propres\n",
    "exp_var_pca = pca_f.explainedVariance.toArray()\n",
    "\n",
    "# Somme cumulée des valeurs propres\n",
    "cum_sum_eigenvalues = np.cumsum(exp_var_pca)\n",
    "\n",
    "# Visualisation\n",
    "plt.bar(range(0,len(exp_var_pca)), exp_var_pca, alpha=0.5, color='grey', align='center', label='Contribution à la variance')\n",
    "plt.plot(cum_sum_eigenvalues, c='red', label='Variance expliquée cumulée')\n",
    "plt.ylabel(\"Part de variance\")\n",
    "plt.xlabel(\"PC\")\n",
    "plt.legend(loc='center right')\n",
    "plt.title(\"Visualisation de la variance expliquée par PC\")\n",
    "plt.tight_layout()\n",
    "plt.show()"
   ]
  },
  {
   "cell_type": "code",
   "execution_count": 21,
   "id": "db0f373b-26bd-4854-a00b-64122158e909",
   "metadata": {},
   "outputs": [
    {
     "name": "stdout",
     "output_type": "stream",
     "text": [
      "Les PC retenues permettent d'expliquer 82% de la variance totale de l'échantillon.\n"
     ]
    }
   ],
   "source": [
    "print(f\"Les PC retenues permettent d'expliquer {cum_sum_eigenvalues[-1]:.0%} de la variance totale de l'échantillon.\")"
   ]
  },
  {
   "cell_type": "raw",
   "id": "1513e1ee-7af8-4968-a6a6-a607a6d6f742",
   "metadata": {},
   "source": [
    "# Sauvegarde dans le S3, au format csv\n",
    "pca_df.toPandas().to_csv('s3a://oc-bucket-img/pca_transform.csv', index=False)"
   ]
  },
  {
   "cell_type": "code",
   "execution_count": 22,
   "id": "82e3e7db-124c-48f4-ad76-c892aa8cd59b",
   "metadata": {},
   "outputs": [],
   "source": [
    "# Enregistrement du modèle\n",
    "pca_f.write().overwrite().save(\"model/pca\")"
   ]
  }
 ],
 "metadata": {
  "kernelspec": {
   "display_name": "Python 3 (ipykernel)",
   "language": "python",
   "name": "python3"
  },
  "language_info": {
   "codemirror_mode": {
    "name": "ipython",
    "version": 3
   },
   "file_extension": ".py",
   "mimetype": "text/x-python",
   "name": "python",
   "nbconvert_exporter": "python",
   "pygments_lexer": "ipython3",
   "version": "3.9.12"
  }
 },
 "nbformat": 4,
 "nbformat_minor": 5
}
